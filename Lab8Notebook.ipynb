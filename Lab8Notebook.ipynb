{
 "cells": [
  {
   "cell_type": "markdown",
   "metadata": {},
   "source": [
    "Relationship between continuous variables"
   ]
  },
  {
   "cell_type": "markdown",
   "metadata": {},
   "source": [
    "Part 1: Correlation\n",
    "Correlation evaluates the relationship between two variables without assuming causation\n",
    "\n",
    "For example, is the tendency to enter dormancy in September correlated with latitude in a moth species (Ostrinia nubilalis), with southern populations (lower latitudes) having lower dormancy rates?\n",
    "(Data from Beck and Apple 1961, Journal of Economic Entomology)"
   ]
  },
  {
   "cell_type": "code",
   "execution_count": null,
   "metadata": {},
   "outputs": [],
   "source": [
    "Lat<-c(45, 44.3, 43.05, 43.45, 42, 40.45, 39.15,36.5)\n",
    "Dorm<-c(1, 0.98, 0.9, 0.93, 0.8, 0.58, 0.96, 0.45)\n",
    "summary(Lat)\n",
    "summary(Dorm)"
   ]
  },
  {
   "cell_type": "markdown",
   "metadata": {},
   "source": [
    "Plot them. This uses the base r code where \"pch=19\" makes filled circles and the \"col\" makes the points blue \n",
    "(Note in ggplot you would say shape=19, color=\"blue\")"
   ]
  },
  {
   "cell_type": "code",
   "execution_count": null,
   "metadata": {},
   "outputs": [],
   "source": [
    "plot(Lat,Dorm, pch=19, col=\"blue\")"
   ]
  },
  {
   "cell_type": "markdown",
   "metadata": {},
   "source": [
    "Perform a statistical test of the correlation, calculating the Pearson correlation coefficient"
   ]
  },
  {
   "cell_type": "code",
   "execution_count": null,
   "metadata": {},
   "outputs": [],
   "source": [
    "cor.test(Lat,Dorm)"
   ]
  },
  {
   "cell_type": "markdown",
   "metadata": {},
   "source": [
    "The estimate of the correlation coefficient (r) is 0.77. We reject the null hypothesis that r=0 because t=2.99 and p=0.02 (p<0.05). Conclude a significan positive relationship between latitude and dormancy."
   ]
  },
  {
   "cell_type": "markdown",
   "metadata": {},
   "source": [
    "The Pearson correlation coefficient assumes normally distrbuted and continuous data, if that assumption is violated, we use the Spearman Rank Correlation\n",
    "\n",
    "Example father behavior and mate preference stickleback fish. Is there a correlation between how much a father interacts with the nest containing offspring and how much his daughters prefer males similar to their father? \n",
    "(Data from Kozak et al. 2011, Proceedings of the Royal Society B)"
   ]
  },
  {
   "cell_type": "code",
   "execution_count": null,
   "metadata": {},
   "outputs": [],
   "source": [
    "Behave<-c(13.1613164, 7.0335001,17.8553888, 11.6810238, 16.2428214,12.8344572)\n",
    "Pref<-c(3,0,3,0.5,1.5,1.5)\n",
    "summary(Behave)\n",
    "summary(Pref)"
   ]
  },
  {
   "cell_type": "markdown",
   "metadata": {},
   "source": [
    "Preference was measured as an ordinal score so violates the assumptions of the pearson correlation."
   ]
  },
  {
   "cell_type": "code",
   "execution_count": null,
   "metadata": {},
   "outputs": [],
   "source": [
    "cor.test(Behave,Pref, method=\"spearman\")"
   ]
  },
  {
   "cell_type": "markdown",
   "metadata": {},
   "source": [
    "The estimate of the Spearman rank correlation coefficient (r) is 0.85. We reject the null hypothesis that r=0 because  p=0.031 (p<0.05). Conclude a significant positive relationship between father behavior and duaghter preference."
   ]
  },
  {
   "cell_type": "code",
   "execution_count": null,
   "metadata": {},
   "outputs": [],
   "source": [
    "plot(Behave,Pref, pch=19, col=\"purple\")"
   ]
  },
  {
   "cell_type": "markdown",
   "metadata": {},
   "source": [
    "See also Lecture 21.R for more correlation codes. "
   ]
  },
  {
   "cell_type": "markdown",
   "metadata": {},
   "source": [
    "Part 2: Linear regression\n",
    "\n",
    "Regression evaluates the relationship between two variables assuming one variable (x) may cause a change in or can be used to predict another variable y\n",
    "\n",
    "Model is y=bx+a\n",
    "\n",
    "For example, does child height (in cm) depend on age (in months)?"
   ]
  },
  {
   "cell_type": "code",
   "execution_count": null,
   "metadata": {},
   "outputs": [],
   "source": [
    "months<-c(18,19,20,21,22,23,24,25,26,27,28,29)\n",
    "height<-c(76.1,77,78.1,78.2,78.8,79.7,79.9,81.1,81.2, 81.8,82.5,83.5)\n",
    "summary(months)\n",
    "summary(height)"
   ]
  },
  {
   "cell_type": "markdown",
   "metadata": {},
   "source": [
    "Load the needed package mosaic for xyplot "
   ]
  },
  {
   "cell_type": "code",
   "execution_count": null,
   "metadata": {},
   "outputs": [],
   "source": [
    "library(mosaic)"
   ]
  },
  {
   "cell_type": "code",
   "execution_count": null,
   "metadata": {},
   "outputs": [],
   "source": [
    "lmodel<-lm(height ~ months)\n",
    "summary(lmodel)"
   ]
  },
  {
   "cell_type": "markdown",
   "metadata": {},
   "source": [
    "We reject the null hypothesis of no relationship because p=5.71x10-11. Conclude there is a significant relationship between height and age.\n",
    "\n",
    "Plot the relationship."
   ]
  },
  {
   "cell_type": "code",
   "execution_count": null,
   "metadata": {},
   "outputs": [],
   "source": [
    "xyplot(height~months, type = c(\"p\", \"r\"))"
   ]
  },
  {
   "cell_type": "markdown",
   "metadata": {},
   "source": [
    "Calculate the ANOVA table for the regression, we will use \"anova\" to see the Mean Square Regression (MSR) and Mean Square Error (MSE)"
   ]
  },
  {
   "cell_type": "code",
   "execution_count": null,
   "metadata": {},
   "outputs": [],
   "source": [
    "A1<-anova(lmodel)\n",
    "A1\n",
    "MSR<-A1[1,3]\n",
    "MSR\n",
    "MSE<-A1[2,3]\n",
    "MSE"
   ]
  },
  {
   "cell_type": "markdown",
   "metadata": {},
   "source": [
    "From the summary, the estimate of the b=0.62552 and a=65.12517  \n",
    "\n",
    "To predict the height at age=22"
   ]
  },
  {
   "cell_type": "code",
   "execution_count": null,
   "metadata": {},
   "outputs": [],
   "source": [
    "yhat=0.62552*22+65.12517\n",
    "yhat"
   ]
  },
  {
   "cell_type": "markdown",
   "metadata": {},
   "source": [
    "General formula"
   ]
  },
  {
   "cell_type": "code",
   "execution_count": null,
   "metadata": {},
   "outputs": [],
   "source": [
    "a<-lmodel$coefficients[1]\n",
    "b<-lmodel$coefficients[2]\n",
    "a\n",
    "b"
   ]
  },
  {
   "cell_type": "code",
   "execution_count": null,
   "metadata": {},
   "outputs": [],
   "source": [
    "a<-lmodel$coefficients[1]\n",
    "b<-lmodel$coefficients[2]\n",
    "x=22\n",
    "P<-b*x+a\n",
    "P"
   ]
  },
  {
   "cell_type": "markdown",
   "metadata": {},
   "source": [
    "To generate a 95% confidence interval for this prediction, need MSE from abovethe anova table (see equation 14.18 in the book)\n",
    "\n",
    "First calculate the standard error of yhat (the predicted value). We will call this \"sp\", and will make R calculate the mean of x (xbar), the sum of all x values (sumx), all x values squared (xsq), and the sum of all x values squared (sumxsq), and the total sample size (n). We set x and use MSE from above."
   ]
  },
  {
   "cell_type": "code",
   "execution_count": null,
   "metadata": {},
   "outputs": [],
   "source": [
    "A1<-anova(lmodel)\n",
    "MSE<-A1[2,3]\n",
    "n=length(months)\n",
    "xbar=mean(months)\n",
    "x=22\n",
    "xsq=months^2\n",
    "sumx=sum(months)\n",
    "sumxsq=sum(xsq)\n",
    "\n",
    "sp=sqrt(MSE*(1/n+((x-xbar)^2)/(sumxsq-((sumx)^2)/n)))\n",
    "sp"
   ]
  },
  {
   "cell_type": "markdown",
   "metadata": {},
   "source": [
    "Then get the t value for alpha=0.05 (two sided=0.025) using the qt function (with n-2 degrees of freedom), we then calculate the interval as yhat plus or minus the standard error times the t value "
   ]
  },
  {
   "cell_type": "code",
   "execution_count": null,
   "metadata": {},
   "outputs": [],
   "source": [
    "t=qt(c(.975), df=n-2) \n",
    "t\n",
    "\n",
    "lower=yhat-sp*t\n",
    "upper=yhat+sp*t\n",
    "\n",
    "lower\n",
    "upper"
   ]
  },
  {
   "cell_type": "markdown",
   "metadata": {},
   "source": [
    "To generate a 95% confidence interval for every value"
   ]
  },
  {
   "cell_type": "code",
   "execution_count": null,
   "metadata": {},
   "outputs": [],
   "source": [
    "predict(lmodel, interval = \"confidence\")"
   ]
  },
  {
   "cell_type": "raw",
   "metadata": {},
   "source": [
    "Row 5 is age=22 and matches what we calculated above."
   ]
  },
  {
   "cell_type": "markdown",
   "metadata": {},
   "source": [
    "Another regression example from iris data set\n",
    "\n",
    "Is Sepal Width dependent on Petal Width?"
   ]
  },
  {
   "cell_type": "code",
   "execution_count": null,
   "metadata": {},
   "outputs": [],
   "source": [
    "data(iris)\n",
    "summary(iris)"
   ]
  },
  {
   "cell_type": "code",
   "execution_count": null,
   "metadata": {},
   "outputs": [],
   "source": [
    "lmodel2<-lm(Sepal.Width~Petal.Width,data=iris)\n",
    "summary(lmodel2)\n",
    "anova(lmodel2)"
   ]
  },
  {
   "cell_type": "markdown",
   "metadata": {},
   "source": [
    "Conclude sepal width does significantly depend on petal width. Relationship is negative (b=-0.21)."
   ]
  },
  {
   "cell_type": "code",
   "execution_count": null,
   "metadata": {},
   "outputs": [],
   "source": [
    "xyplot(Sepal.Width~Petal.Width,data=iris, type = c(\"p\", \"r\"))"
   ]
  },
  {
   "cell_type": "markdown",
   "metadata": {},
   "source": [
    "Checking the model assumptions\n",
    "Normality of residuals"
   ]
  },
  {
   "cell_type": "code",
   "execution_count": null,
   "metadata": {},
   "outputs": [],
   "source": [
    "res.mod2<-resid(lmodel2)\n",
    "summary(res.mod2)"
   ]
  },
  {
   "cell_type": "code",
   "execution_count": null,
   "metadata": {},
   "outputs": [],
   "source": [
    "shapiro.test(res.mod2)"
   ]
  },
  {
   "cell_type": "markdown",
   "metadata": {},
   "source": [
    "Fail to reject the null hypothesis of normality because p>0.05. Residuals are normal for sepal and petal width (lmodel2)"
   ]
  },
  {
   "cell_type": "markdown",
   "metadata": {},
   "source": [
    "Let's look at the qqPlot. In addition to plot(lmodel2), we can use qqPlot from the car package to generate a qqPlot with  a reference line (solid line), along with upper and lower 95% confidence intervals for the plot (dashed lines). Data points should not fall outside of the dashed lines."
   ]
  },
  {
   "cell_type": "code",
   "execution_count": null,
   "metadata": {},
   "outputs": [],
   "source": [
    "library(car)\n",
    "qqPlot(lmodel2, simulate=F)"
   ]
  },
  {
   "cell_type": "markdown",
   "metadata": {},
   "source": [
    "See also Lab8.R and Lecture 23.R,25.R,26.R for more linear regression codes. Lecture 21.R for correlation codes"
   ]
  }
 ],
 "metadata": {
  "kernelspec": {
   "display_name": "R",
   "language": "R",
   "name": "ir"
  },
  "language_info": {
   "codemirror_mode": "r",
   "file_extension": ".r",
   "mimetype": "text/x-r-source",
   "name": "R",
   "pygments_lexer": "r",
   "version": "3.5.1"
  }
 },
 "nbformat": 4,
 "nbformat_minor": 2
}
